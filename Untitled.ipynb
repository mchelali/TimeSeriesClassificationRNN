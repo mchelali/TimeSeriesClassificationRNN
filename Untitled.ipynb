{
 "cells": [
  {
   "cell_type": "code",
   "execution_count": 2,
   "metadata": {},
   "outputs": [],
   "source": [
    "import matplotlib.pyplot as plt\n",
    "import numpy as np\n",
    "import pandas as pd\n",
    "import seaborn as sns\n",
    "import torch\n",
    "import torch.nn as nn\n",
    "from torchsummary import summary\n",
    "from tslearn.datasets import UCR_UEA_datasets\n"
   ]
  },
  {
   "cell_type": "code",
   "execution_count": 3,
   "metadata": {},
   "outputs": [
    {
     "name": "stdout",
     "output_type": "stream",
     "text": [
      "Adiac\n",
      "ArrowHead\n",
      "Beef\n",
      "BeetleFly\n",
      "BirdChicken\n",
      "Car\n",
      "CBF\n",
      "ChlorineConcentration\n",
      "CinCECGTorso\n",
      "Coffee\n",
      "Computers\n",
      "CricketX\n",
      "CricketY\n",
      "CricketZ\n",
      "DiatomSizeReduction\n",
      "DistalPhalanxOutlineCorrect\n",
      "DistalPhalanxOutlineAgeGroup\n",
      "DistalPhalanxTW\n",
      "Earthquakes\n",
      "ECG200\n",
      "ECG5000\n",
      "ECGFiveDays\n",
      "ElectricDevices\n",
      "FaceAll\n",
      "FaceFour\n",
      "FacesUCR\n",
      "FiftyWords\n",
      "Fish\n",
      "FordA\n",
      "FordB\n",
      "GunPoint\n",
      "Ham\n",
      "HandOutlines\n",
      "Haptics\n",
      "Herring\n",
      "InlineSkate\n",
      "InsectWingbeatSound\n",
      "ItalyPowerDemand\n",
      "LargeKitchenAppliances\n",
      "Lightning2\n",
      "Lightning7\n",
      "Mallat\n",
      "Meat\n",
      "MedicalImages\n",
      "MiddlePhalanxOutlineCorrect\n",
      "MiddlePhalanxOutlineAgeGroup\n",
      "MiddlePhalanxTW\n",
      "MoteStrain\n",
      "NonInvasiveFatalECGThorax1\n",
      "NonInvasiveFatalECGThorax2\n",
      "OliveOil\n",
      "OSULeaf\n",
      "PhalangesOutlinesCorrect\n",
      "Phoneme\n",
      "Plane\n",
      "ProximalPhalanxOutlineCorrect\n",
      "ProximalPhalanxOutlineAgeGroup\n",
      "ProximalPhalanxTW\n",
      "RefrigerationDevices\n",
      "ScreenType\n",
      "ShapeletSim\n",
      "ShapesAll\n",
      "SmallKitchenAppliances\n",
      "SonyAIBORobotSurface1\n",
      "SonyAIBORobotSurface2\n",
      "StarLightCurves\n",
      "Strawberry\n",
      "SwedishLeaf\n",
      "Symbols\n",
      "SyntheticControl\n",
      "ToeSegmentation1\n",
      "ToeSegmentation2\n",
      "Trace\n",
      "TwoLeadECG\n",
      "TwoPatterns\n",
      "UWaveGestureLibraryX\n",
      "UWaveGestureLibraryY\n",
      "UWaveGestureLibraryZ\n",
      "UWaveGestureLibraryAll\n",
      "Wafer\n",
      "Wine\n",
      "WordSynonyms\n",
      "Worms\n",
      "WormsTwoClass\n",
      "Yoga\n"
     ]
    }
   ],
   "source": [
    "for data in UCR_UEA_datasets().list_datasets():\n",
    "    print(data)"
   ]
  },
  {
   "cell_type": "code",
   "execution_count": 6,
   "metadata": {},
   "outputs": [
    {
     "name": "stdout",
     "output_type": "stream",
     "text": [
      "Train shape (50, 150, 1)\n",
      "Test shape (150, 150, 1)\n",
      "{1, 2}\n"
     ]
    }
   ],
   "source": [
    "X_train, y_train, X_test, y_test = UCR_UEA_datasets().load_dataset(\"GunPoint\")\n",
    "print(\"Train shape\", X_train.shape)\n",
    "print(\"Test shape\", X_test.shape)\n",
    "print(set(y_train))"
   ]
  },
  {
   "cell_type": "code",
   "execution_count": 10,
   "metadata": {},
   "outputs": [
    {
     "data": {
      "text/plain": [
       "[<matplotlib.lines.Line2D at 0x208a1a4e320>]"
      ]
     },
     "execution_count": 10,
     "metadata": {},
     "output_type": "execute_result"
    },
    {
     "data": {
      "image/png": "[encoded data removed]",
      "text/plain": [
       "<Figure size 432x288 with 1 Axes>"
      ]
     },
     "metadata": {
      "needs_background": "light"
     },
     "output_type": "display_data"
    }
   ],
   "source": [
    "plt.plot(range(X_train.shape[1]), X_train[0, :]/X_train.max())\n",
    "plt.plot(range(X_train.shape[1]), X_train[25, :]/X_train.max())"
   ]
  },
  {
   "cell_type": "code",
   "execution_count": 42,
   "metadata": {},
   "outputs": [],
   "source": [
    "# Create DataLoader\n",
    "from torch.utils.data import Dataset\n",
    "from torch.utils.data import DataLoader\n",
    "\n",
    "\n",
    "class TimeSeriesDataSet(Dataset):\n",
    "    def __init__(self, data, label):\n",
    "        self.data = data\n",
    "        self.label = label\n",
    "        self.nb_samples = data.shape[0]\n",
    "        self.len_timeseries = data.shape[1]\n",
    "        \n",
    "    def __len__(self):\n",
    "        return self.nb_samples\n",
    "    \n",
    "    def __getitem__(self, idx):\n",
    "        return self.data[idx, :], int(self.label[idx]-1)"
   ]
  },
  {
   "cell_type": "code",
   "execution_count": 57,
   "metadata": {},
   "outputs": [
    {
     "name": "stdout",
     "output_type": "stream",
     "text": [
      "<class '__main__.TimeSeriesDataSet'> 50\n",
      "torch.Size([8, 150, 1]) 8\n",
      "torch.Size([8, 150, 1]) 8\n",
      "torch.Size([8, 150, 1]) 8\n",
      "torch.Size([8, 150, 1]) 8\n",
      "torch.Size([8, 150, 1]) 8\n"
     ]
    }
   ],
   "source": [
    "# Tester le DataSet\n",
    "tsSet = TimeSeriesDataSet(X_train/X_train.max(), y_train)\n",
    "testSet = TimeSeriesDataSet(X_test/X_train.max(), y_test)\n",
    "\n",
    "print(type(tsSet), len(tsSet))\n",
    "\n",
    "loader = DataLoader(tsSet, batch_size=8)\n",
    "\n",
    "testloader = DataLoader(testSet, batch_size=8)\n",
    "\n",
    "n = 5\n",
    "for batch in loader:\n",
    "    print((batch[0].shape), len(batch[0]))\n",
    "    n+=1\n",
    "    if n == 10:\n",
    "        break"
   ]
  },
  {
   "cell_type": "code",
   "execution_count": 13,
   "metadata": {},
   "outputs": [],
   "source": [
    "class LSTMTagger(nn.Module):\n",
    "\n",
    "    def __init__(self, input_size, hidden_size, num_layers, nb_classes):\n",
    "        super(LSTMTagger, self).__init__()\n",
    "        self.lstm = nn.LSTM(input_size=input_size, hidden_size=hidden_size, num_layers=num_layers)\n",
    "\n",
    "        # The linear layer that maps from hidden state space to tag space\n",
    "        self.hidden2tag = nn.Linear(hidden_size, nb_classes)\n",
    "\n",
    "\n",
    "    def forward(self, x):\n",
    "        print(\"input ===+> \", x.shape, \"; reshape 4 lstm layer\", x.view(x.size(1), x.size(0), x.size(2)).shape)\n",
    "        lstm_out, _ = self.lstm(x.view(x.size(1), x.size(0), x.size(2)))\n",
    "        \n",
    "        print(\"lstm output ==>2==>\", lstm_out.shape, \"; FC input shape\", lstm_out.view(x.size(0), x.size(1),-1).shape)\n",
    "        tag_space = self.hidden2tag(lstm_out.view(x.size(0), x.size(1),-1))\n",
    "        #tag_scores = F.log_softmax(tag_space, dim=1)\n",
    "        print(\"res \", tag_space.shape)\n",
    "        return tag_space"
   ]
  },
  {
   "cell_type": "code",
   "execution_count": 14,
   "metadata": {},
   "outputs": [
    {
     "name": "stdout",
     "output_type": "stream",
     "text": [
      "torch.Size([1, 50, 512])\n",
      "LSTMTagger(\n",
      "  (lstm): LSTM(128, 512, num_layers=3)\n",
      "  (hidden2tag): Linear(in_features=512, out_features=2, bias=True)\n",
      ")\n"
     ]
    }
   ],
   "source": [
    "model = LSTMTagger(input_size=128, hidden_size=512, num_layers=3, nb_classes=2)\n",
    "\n",
    "a = torch.randn(1, 50, 128)\n",
    "print(model.lstm(a)[0].shape)\n",
    "print(model)"
   ]
  },
  {
   "cell_type": "code",
   "execution_count": 15,
   "metadata": {},
   "outputs": [
    {
     "name": "stdout",
     "output_type": "stream",
     "text": [
      "input ===+>  torch.Size([1, 2, 128]) ; reshape 4 lstm layer torch.Size([2, 1, 128])\n",
      "lstm output ==>2==> torch.Size([2, 1, 512]) ; FC input shape torch.Size([1, 2, 512])\n",
      "res  torch.Size([1, 2, 2])\n",
      "torch.Size([1, 2, 2])\n"
     ]
    }
   ],
   "source": [
    "test = torch.randn(1, 2, 128)\n",
    "print(model(test).shape)"
   ]
  },
  {
   "cell_type": "markdown",
   "metadata": {},
   "source": [
    "# RNN-LSTM 2"
   ]
  },
  {
   "cell_type": "code",
   "execution_count": 49,
   "metadata": {},
   "outputs": [],
   "source": [
    "class MV_LSTM(torch.nn.Module):\n",
    "    def __init__(self,n_features,seq_length, nb_classes):\n",
    "        super(MV_LSTM, self).__init__()\n",
    "        self.n_features = n_features # nb of features (e.g. R, G, B if sequence on pixels is consideried)\n",
    "        self.seq_len = seq_length # Length of the sequence\n",
    "        self.n_hidden = 20 # number of hidden states\n",
    "        self.n_layers = 1 # number of LSTM layers (stacked)\n",
    "\n",
    "        self.l_lstm = torch.nn.LSTM(input_size = n_features, \n",
    "                                 hidden_size = self.n_hidden,\n",
    "                                 num_layers = self.n_layers, \n",
    "                                 batch_first = True)\n",
    "        # according to pytorch docs LSTM output is \n",
    "        # (batch_size,seq_len, num_directions * hidden_size)\n",
    "        # when considering batch_first = True\n",
    "        self.l_linear = torch.nn.Linear(self.n_hidden*self.seq_len, nb_classes)\n",
    "\n",
    "        \n",
    "\n",
    "    def init_hidden(self, batch_size):\n",
    "        # even with batch_first = True this remains same as docs\n",
    "        hidden_state = torch.zeros(self.n_layers,batch_size,self.n_hidden)\n",
    "        cell_state = torch.zeros(self.n_layers,batch_size,self.n_hidden)\n",
    "        self.hidden = (hidden_state, cell_state)\n",
    "\n",
    "\n",
    "    def forward(self, x):        \n",
    "        batch_size, seq_len, _ = x.size()\n",
    "        \n",
    "        lstm_out, self.hidden = self.l_lstm(x,self.hidden)\n",
    "        # lstm_out(with batch_first = True) is \n",
    "        # (batch_size,seq_len,num_directions * hidden_size)\n",
    "        # for following linear layer we want to keep batch_size dimension and merge rest       \n",
    "        # .contiguous() -> solves tensor compatibility error\n",
    "        x = lstm_out.contiguous().view(batch_size,-1)\n",
    "        #print(x.shape)\n",
    "        return self.l_linear(x)"
   ]
  },
  {
   "cell_type": "code",
   "execution_count": 50,
   "metadata": {},
   "outputs": [
    {
     "name": "stdout",
     "output_type": "stream",
     "text": [
      "MV_LSTM(\n",
      "  (l_lstm): LSTM(1, 20, batch_first=True)\n",
      "  (l_linear): Linear(in_features=2560, out_features=8, bias=True)\n",
      ")\n"
     ]
    }
   ],
   "source": [
    "rnn = MV_LSTM(n_features=1, seq_length=128, nb_classes=8)\n",
    "print(rnn)"
   ]
  },
  {
   "cell_type": "code",
   "execution_count": 51,
   "metadata": {},
   "outputs": [
    {
     "name": "stdout",
     "output_type": "stream",
     "text": [
      "torch.Size([6, 8])\n"
     ]
    }
   ],
   "source": [
    "test = torch.randn(6, 128, 1)\n",
    "rnn.init_hidden(6)\n",
    "print(rnn(test).shape)"
   ]
  },
  {
   "cell_type": "markdown",
   "metadata": {},
   "source": [
    "# Training the LSTM :)"
   ]
  },
  {
   "cell_type": "code",
   "execution_count": 54,
   "metadata": {},
   "outputs": [
    {
     "name": "stdout",
     "output_type": "stream",
     "text": [
      "MV_LSTM(\n",
      "  (l_lstm): LSTM(1, 20, batch_first=True)\n",
      "  (l_linear): Linear(in_features=3000, out_features=2, bias=True)\n",
      ")\n"
     ]
    }
   ],
   "source": [
    "# create NN\n",
    "del(net)\n",
    "net = MV_LSTM(n_features=1, seq_length=X_train.shape[1], nb_classes=2)\n",
    "criterion = torch.nn.CrossEntropyLoss() \n",
    "optimizer = torch.optim.Adam(net.parameters(), lr=1e-1)\n",
    "print(net)\n",
    "train_episodes = 50"
   ]
  },
  {
   "cell_type": "code",
   "execution_count": 55,
   "metadata": {},
   "outputs": [
    {
     "name": "stdout",
     "output_type": "stream",
     "text": [
      "step :  0 loss :  24.512627048151835\n",
      "step :  1 loss :  1.455815399331706\n",
      "step :  2 loss :  1.6179201304912567\n",
      "step :  3 loss :  0.4365514559405191\n",
      "step :  4 loss :  0.45765717327594757\n",
      "step :  5 loss :  0.29243771146450726\n",
      "step :  6 loss :  0.24094304096485888\n",
      "step :  7 loss :  0.2595812308468989\n",
      "step :  8 loss :  0.2876212966761419\n",
      "step :  9 loss :  0.321910103051258\n",
      "step :  10 loss :  0.471165665026222\n",
      "step :  11 loss :  0.9120755419135094\n",
      "step :  12 loss :  4.157942476017134\n",
      "step :  13 loss :  1.6746827561873943\n",
      "step :  14 loss :  0.742958516219265\n",
      "step :  15 loss :  0.7682907234079072\n",
      "step :  16 loss :  0.5484635368588248\n",
      "step :  17 loss :  0.4499686187399285\n",
      "step :  18 loss :  0.22406425659677812\n",
      "step :  19 loss :  0.25538187796649126\n",
      "step :  20 loss :  0.20389085848416602\n",
      "step :  21 loss :  0.15969471912831068\n",
      "step :  22 loss :  0.17987539479508996\n",
      "step :  23 loss :  0.14268525170960597\n",
      "step :  24 loss :  0.14842680615506001\n",
      "step :  25 loss :  0.13967173573161876\n",
      "step :  26 loss :  0.13243314094974526\n",
      "step :  27 loss :  0.13140881131403148\n",
      "step :  28 loss :  0.12036093693625714\n",
      "step :  29 loss :  0.11850847759550172\n",
      "step :  30 loss :  0.10801166745035776\n",
      "step :  31 loss :  0.10346049356407352\n",
      "step :  32 loss :  0.09627367030563098\n",
      "step :  33 loss :  0.08741138499629285\n",
      "step :  34 loss :  0.08446431444359145\n",
      "step :  35 loss :  0.07796175659833741\n",
      "step :  36 loss :  0.0706580663931423\n",
      "step :  37 loss :  0.06352458166657016\n",
      "step :  38 loss :  0.05461032010498457\n",
      "step :  39 loss :  0.042967754295594726\n",
      "step :  40 loss :  0.027060758451365734\n",
      "step :  41 loss :  0.01528982693603861\n",
      "step :  42 loss :  0.01699280103847351\n",
      "step :  43 loss :  0.625031646347322\n",
      "step :  44 loss :  0.718746673215979\n",
      "step :  45 loss :  0.30376428545319606\n",
      "step :  46 loss :  0.1649112846436245\n",
      "step :  47 loss :  0.18210010237193533\n",
      "step :  48 loss :  0.23935824740744596\n",
      "step :  49 loss :  0.1446883861873565\n"
     ]
    },
    {
     "data": {
      "image/png": "[encoded data removed]",
      "text/plain": [
       "<Figure size 432x288 with 1 Axes>"
      ]
     },
     "metadata": {
      "needs_background": "light"
     },
     "output_type": "display_data"
    }
   ],
   "source": [
    "\n",
    "net.train()\n",
    "train_loss = list()\n",
    "for i in range(train_episodes):\n",
    "    loss = 0\n",
    "    nb_elem = 0\n",
    "    for batch in loader:\n",
    "        #print((batch[0].shape), len(batch[0]), batch[1])\n",
    "        x_batch = batch[0]\n",
    "        y_batch = batch[1]\n",
    "        \n",
    "        net.init_hidden(x_batch.size(0))\n",
    "        output = net(x_batch.float()) \n",
    "        #print(output)\n",
    "        loss_ = criterion(output, y_batch)  \n",
    "\n",
    "        loss += loss_.item()\n",
    "        \n",
    "        loss_.backward()\n",
    "        optimizer.step()        \n",
    "        optimizer.zero_grad() \n",
    "        \n",
    "        nb_elem += 1\n",
    "    \n",
    "    train_loss.append(loss / nb_elem)\n",
    "    print('step : ' , i , 'loss : ' , loss / nb_elem)\n",
    "plt.plot(range(len(train_loss)), train_loss)\n",
    "plt.show()\n",
    "    "
   ]
  },
  {
   "cell_type": "code",
   "execution_count": 60,
   "metadata": {},
   "outputs": [
    {
     "name": "stdout",
     "output_type": "stream",
     "text": [
      "torch.Size([8, 150, 1]) 8 tensor([0, 1, 1, 0, 0, 1, 0, 1])\n",
      "torch.Size([8, 150, 1]) 8 tensor([1, 0, 0, 0, 1, 0, 0, 0])\n",
      "torch.Size([8, 150, 1]) 8 tensor([0, 1, 1, 1, 0, 1, 0, 0])\n",
      "torch.Size([8, 150, 1]) 8 tensor([0, 1, 0, 0, 1, 0, 0, 1])\n",
      "torch.Size([8, 150, 1]) 8 tensor([1, 0, 0, 0, 0, 0, 0, 1])\n",
      "torch.Size([8, 150, 1]) 8 tensor([0, 1, 0, 0, 1, 0, 1, 1])\n",
      "torch.Size([8, 150, 1]) 8 tensor([0, 1, 1, 1, 0, 1, 0, 0])\n",
      "torch.Size([8, 150, 1]) 8 tensor([1, 1, 0, 1, 0, 1, 0, 0])\n",
      "torch.Size([8, 150, 1]) 8 tensor([1, 0, 0, 1, 1, 1, 1, 1])\n",
      "torch.Size([8, 150, 1]) 8 tensor([1, 1, 1, 1, 1, 1, 1, 0])\n",
      "torch.Size([8, 150, 1]) 8 tensor([0, 0, 1, 1, 1, 1, 0, 1])\n",
      "torch.Size([8, 150, 1]) 8 tensor([0, 0, 0, 1, 0, 1, 0, 0])\n",
      "torch.Size([8, 150, 1]) 8 tensor([1, 1, 0, 0, 1, 0, 0, 1])\n",
      "torch.Size([8, 150, 1]) 8 tensor([1, 0, 0, 1, 0, 1, 1, 1])\n",
      "torch.Size([8, 150, 1]) 8 tensor([0, 1, 0, 0, 1, 0, 0, 1])\n",
      "torch.Size([8, 150, 1]) 8 tensor([0, 1, 1, 1, 0, 1, 0, 0])\n",
      "torch.Size([8, 150, 1]) 8 tensor([1, 1, 1, 1, 0, 0, 0, 1])\n",
      "torch.Size([8, 150, 1]) 8 tensor([0, 1, 0, 0, 1, 0, 0, 1])\n",
      "torch.Size([6, 150, 1]) 6 tensor([0, 1, 0, 1, 1, 0])\n",
      "Accuracy of the network on the 10000 test images: 76.666667 %\n"
     ]
    }
   ],
   "source": [
    "net.eval()\n",
    "\n",
    "correct = 0.\n",
    "total = 0.\n",
    "\n",
    "for data in testloader:\n",
    "    images, labels = data\n",
    "    print((images.shape), len(labels), labels)\n",
    "    net.init_hidden(images.size(0))\n",
    "    outputs = net(images.float())\n",
    "    _, predicted = torch.max(outputs.data, 1)\n",
    "    total += labels.size(0)\n",
    "    correct += (predicted == labels).sum().item()\n",
    "\n",
    "print('Accuracy of the network on the 10000 test images: %f %%' % ( 100. * correct / total))"
   ]
  },
  {
   "cell_type": "code",
   "execution_count": 62,
   "metadata": {},
   "outputs": [
    {
     "name": "stdout",
     "output_type": "stream",
     "text": [
      "Accuracy of 0 : 62.162162 %\n",
      "Accuracy of 1 : 87.179487 %\n"
     ]
    }
   ],
   "source": [
    "class_correct = list(0. for i in range(10))\n",
    "class_total = list(0. for i in range(10))\n",
    "with torch.no_grad():\n",
    "    for data in testloader:\n",
    "        images, labels = data\n",
    "        net.init_hidden(images.size(0))\n",
    "        outputs = net(images.float())\n",
    "        _, predicted = torch.max(outputs, 1)\n",
    "        c = (predicted == labels).squeeze()\n",
    "        for i in range(4):\n",
    "            label = labels[i]\n",
    "            class_correct[label] += c[i].item()\n",
    "            class_total[label] += 1\n",
    "\n",
    "\n",
    "for i in range(2):\n",
    "    print('Accuracy of %i : %f %%' % (i, 100. * class_correct[i] / class_total[i]))"
   ]
  },
  {
   "cell_type": "code",
   "execution_count": null,
   "metadata": {},
   "outputs": [],
   "source": []
  }
 ],
 "metadata": {
  "kernelspec": {
   "display_name": "Python 3",
   "language": "python",
   "name": "python3"
  },
  "language_info": {
   "codemirror_mode": {
    "name": "ipython",
    "version": 3
   },
   "file_extension": ".py",
   "mimetype": "text/x-python",
   "name": "python",
   "nbconvert_exporter": "python",
   "pygments_lexer": "ipython3",
   "version": "3.7.3"
  }
 },
 "nbformat": 4,
 "nbformat_minor": 4
}
